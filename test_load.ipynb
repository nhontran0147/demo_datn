{
 "cells": [
  {
   "cell_type": "code",
   "execution_count": 10,
   "metadata": {},
   "outputs": [],
   "source": [
    "import pandas as pd\n",
    "\n",
    "# Đường dẫn đến file CSV của bạn\n",
    "my_url = \".\"\n",
    "# Đọc dữ liệu từ file CSV vào DataFrame\n",
    "sv_1306 = pd.read_csv(f\"{my_url}/data/kiem_chung/INT1306_data_kiem_chung.csv\")\n",
    "sv_1332 = pd.read_csv(f\"{my_url}/data/kiem_chung/INT1332_data_kiem_chung.csv\")\n",
    "sv_1434 = pd.read_csv(f\"{my_url}/data/kiem_chung/INT1434_3_data_kiem_chung.csv\")\n",
    "# Lấy ra tất cả các giá trị trong cột \"MaSV\" và loại bỏ các giá trị trùng lặp\n",
    "sv_1306_array = sv_1306['MaSV'].unique()\n",
    "sv_1332_array = sv_1332['MaSV'].unique()\n",
    "sv_1434_array = sv_1434['MaSV'].unique()\n",
    "all_arrays = [sv_1306_array, sv_1332_array, sv_1434_array]\n",
    "\n",
    "\n"
   ]
  },
  {
   "cell_type": "code",
   "execution_count": 19,
   "metadata": {},
   "outputs": [
    {
     "name": "stdout",
     "output_type": "stream",
     "text": [
      "{'INT1155': [7.4, 0.0], 'INT1339': [1.8, 4.4], 'INT1358': [7.9]}\n"
     ]
    }
   ],
   "source": [
    "import pandas as pd\n",
    "\n",
    "def filter_records_by_MaSV(MaSV_param):\n",
    "    # Đọc dữ liệu từ file CSV vào DataFrame\n",
    "    df = pd.read_csv(f\"{my_url}/data/kiem_chung/INT1306_data_kiem_chung.csv\")\n",
    "\n",
    "    # Lọc các bản ghi có giá trị MaSV bằng với tham số truyền vào\n",
    "    filtered_records = df[df['MaSV'] == MaSV_param]\n",
    "\n",
    "    DiemHP_by_MaMH = filtered_records.groupby('MaMH')['DiemHP'].apply(list).to_dict()\n",
    "\n",
    "    return DiemHP_by_MaMH\n",
    "\n",
    "# Tham số MaSV bạn muốn tìm kiếm\n",
    "MaSV_param = 'N14DCCN070'\n",
    "\n",
    "# Gọi hàm và in kết quả\n",
    "result = filter_records_by_MaSV(MaSV_param)\n",
    "print(result)\n"
   ]
  },
  {
   "cell_type": "code",
   "execution_count": 5,
   "metadata": {},
   "outputs": [
    {
     "name": "stdout",
     "output_type": "stream",
     "text": [
      "['N17DCCN010' 'N17DCAT047' 'N16DCAT004' 'N18DCCN138' 'N15DCCN097'\n",
      " 'N14DCAT101' 'N17DCCN114' 'N15DCCN126' 'N18DCAT018' 'N18DCCN215'\n",
      " 'N15DCCN160' 'N16DCCN149' 'N18DCCN175' 'N17DCAT011' 'N18DCCN125'\n",
      " 'N18DCCN044' 'N15DCCN072' 'N17DCCN083' 'N17DCCN094' 'N15DCCN020'\n",
      " 'N17DCCN111' 'N14DCAT093' 'N15DCCN099' 'N15DCCN066' 'N16DCCN014'\n",
      " 'N17DCCN040' 'N15DCCN169' 'N15DCAT015' 'N17DCCN095' 'N14DCCN084'\n",
      " 'N17DCCN105' 'N18DCAT093' 'N15DCCN190' 'N18DCCN088' 'N16DCCN044'\n",
      " 'N18DCCN199' 'N18DCCN089' 'N15DCCN038' 'N18DCCN202' 'N17DCCN002'\n",
      " 'N17DCCN042' 'N18DCAT094' 'N16DCCN178' 'N18DCCN118' 'N17DCCN050']\n"
     ]
    }
   ],
   "source": [
    "print(sv_1332_array)\n"
   ]
  },
  {
   "cell_type": "code",
   "execution_count": 6,
   "metadata": {},
   "outputs": [
    {
     "name": "stdout",
     "output_type": "stream",
     "text": [
      "['N18DCCN102' 'N15DCCN038' 'N17DCAT075' 'N14DCCN078' 'N18DCCN247'\n",
      " 'N18DCCN044' 'N17DCCN067' 'N17DCAT062' 'N17DCAT031' 'N18DCCN075'\n",
      " 'N17DCAT072' 'N15DCCN186' 'N17DCCN161' 'N18DCCN155' 'N14DCCN009'\n",
      " 'N18DCCN045' 'N17DCCN001' 'N15DCCN169' 'N14DCCN004' 'N17DCCN020'\n",
      " 'N17DCCN069' 'N18DCCN217' 'N18DCCN223' 'N15DCCN160' 'N17DCCN022'\n",
      " 'N17DCCN118' 'N16DCAT038' 'N18DCCN240' 'N18DCCN226' 'N17DCCN087'\n",
      " 'N16DCCN157' 'N18DCCN042' 'N18DCAT048' 'N16DCAT004' 'N18DCCN128'\n",
      " 'N15DCCN003' 'N16DCAT014' 'N16DCCN081' 'N18DCAT093' 'N18DCCN081'\n",
      " 'N17DCCN191' 'N17DCAT067' 'N15DCCN011' 'N15DCCN190']\n"
     ]
    }
   ],
   "source": [
    "print(sv_1434_array)"
   ]
  },
  {
   "cell_type": "code",
   "execution_count": null,
   "metadata": {},
   "outputs": [],
   "source": [
    "import pandas as pd\n",
    "\n",
    "def load_sv():\n",
    "    # Đường dẫn đến file CSV của bạn\n",
    "    my_url = \".\"\n",
    "    # Đọc dữ liệu từ file CSV vào DataFrame\n",
    "    sv_1306 = pd.read_csv(f\"{my_url}/data/kiem_chung/INT1306_data_kiem_chung.csv\")\n",
    "    sv_1332 = pd.read_csv(f\"{my_url}/data/kiem_chung/INT1332_data_kiem_chung.csv\")\n",
    "    sv_1434 = pd.read_csv(f\"{my_url}/data/kiem_chung/INT1434_3_data_kiem_chung.csv\")\n",
    "    # Lấy ra tất cả các giá trị trong cột \"MaSV\" và loại bỏ các giá trị trùng lặp\n",
    "    sv_1306_array = sv_1306['MaSV'].unique()\n",
    "    sv_1332_array = sv_1332['MaSV'].unique()\n",
    "    sv_1434_array = sv_1434['MaSV'].unique()"
   ]
  }
 ],
 "metadata": {
  "kernelspec": {
   "display_name": "Python 3",
   "language": "python",
   "name": "python3"
  },
  "language_info": {
   "codemirror_mode": {
    "name": "ipython",
    "version": 3
   },
   "file_extension": ".py",
   "mimetype": "text/x-python",
   "name": "python",
   "nbconvert_exporter": "python",
   "pygments_lexer": "ipython3",
   "version": "3.9.13"
  }
 },
 "nbformat": 4,
 "nbformat_minor": 2
}
